{
 "cells": [
  {
   "cell_type": "markdown",
   "metadata": {},
   "source": [
    "# Testing ML Models"
   ]
  },
  {
   "cell_type": "code",
   "execution_count": 1,
   "metadata": {},
   "outputs": [],
   "source": [
    "%load_ext autoreload\n",
    "%autoreload 2 "
   ]
  },
  {
   "cell_type": "code",
   "execution_count": 2,
   "metadata": {},
   "outputs": [],
   "source": [
    "from models.linear_regression   import LinearRegression\n",
    "from models.logistic_regression import LogisticRegression\n",
    "from models.decision_tree       import DecisionTree"
   ]
  },
  {
   "cell_type": "markdown",
   "metadata": {},
   "source": [
    "## Creating a fake dataset"
   ]
  },
  {
   "cell_type": "code",
   "execution_count": 3,
   "metadata": {},
   "outputs": [
    {
     "data": {
      "text/html": [
       "<div>\n",
       "<style scoped>\n",
       "    .dataframe tbody tr th:only-of-type {\n",
       "        vertical-align: middle;\n",
       "    }\n",
       "\n",
       "    .dataframe tbody tr th {\n",
       "        vertical-align: top;\n",
       "    }\n",
       "\n",
       "    .dataframe thead th {\n",
       "        text-align: right;\n",
       "    }\n",
       "</style>\n",
       "<table border=\"1\" class=\"dataframe\">\n",
       "  <thead>\n",
       "    <tr style=\"text-align: right;\">\n",
       "      <th></th>\n",
       "      <th>id</th>\n",
       "      <th>has_fever</th>\n",
       "      <th>has_cough</th>\n",
       "      <th>has_breathing_issues</th>\n",
       "      <th>infected</th>\n",
       "    </tr>\n",
       "  </thead>\n",
       "  <tbody>\n",
       "    <tr>\n",
       "      <th>0</th>\n",
       "      <td>1</td>\n",
       "      <td>0</td>\n",
       "      <td>1</td>\n",
       "      <td>0</td>\n",
       "      <td>0</td>\n",
       "    </tr>\n",
       "    <tr>\n",
       "      <th>1</th>\n",
       "      <td>2</td>\n",
       "      <td>1</td>\n",
       "      <td>1</td>\n",
       "      <td>1</td>\n",
       "      <td>1</td>\n",
       "    </tr>\n",
       "    <tr>\n",
       "      <th>2</th>\n",
       "      <td>3</td>\n",
       "      <td>1</td>\n",
       "      <td>0</td>\n",
       "      <td>1</td>\n",
       "      <td>1</td>\n",
       "    </tr>\n",
       "    <tr>\n",
       "      <th>3</th>\n",
       "      <td>4</td>\n",
       "      <td>1</td>\n",
       "      <td>1</td>\n",
       "      <td>1</td>\n",
       "      <td>1</td>\n",
       "    </tr>\n",
       "    <tr>\n",
       "      <th>4</th>\n",
       "      <td>5</td>\n",
       "      <td>0</td>\n",
       "      <td>1</td>\n",
       "      <td>1</td>\n",
       "      <td>0</td>\n",
       "    </tr>\n",
       "    <tr>\n",
       "      <th>...</th>\n",
       "      <td>...</td>\n",
       "      <td>...</td>\n",
       "      <td>...</td>\n",
       "      <td>...</td>\n",
       "      <td>...</td>\n",
       "    </tr>\n",
       "    <tr>\n",
       "      <th>495</th>\n",
       "      <td>496</td>\n",
       "      <td>0</td>\n",
       "      <td>0</td>\n",
       "      <td>1</td>\n",
       "      <td>0</td>\n",
       "    </tr>\n",
       "    <tr>\n",
       "      <th>496</th>\n",
       "      <td>497</td>\n",
       "      <td>1</td>\n",
       "      <td>1</td>\n",
       "      <td>1</td>\n",
       "      <td>1</td>\n",
       "    </tr>\n",
       "    <tr>\n",
       "      <th>497</th>\n",
       "      <td>498</td>\n",
       "      <td>0</td>\n",
       "      <td>0</td>\n",
       "      <td>1</td>\n",
       "      <td>1</td>\n",
       "    </tr>\n",
       "    <tr>\n",
       "      <th>498</th>\n",
       "      <td>499</td>\n",
       "      <td>1</td>\n",
       "      <td>1</td>\n",
       "      <td>1</td>\n",
       "      <td>0</td>\n",
       "    </tr>\n",
       "    <tr>\n",
       "      <th>499</th>\n",
       "      <td>500</td>\n",
       "      <td>1</td>\n",
       "      <td>0</td>\n",
       "      <td>1</td>\n",
       "      <td>0</td>\n",
       "    </tr>\n",
       "  </tbody>\n",
       "</table>\n",
       "<p>500 rows × 5 columns</p>\n",
       "</div>"
      ],
      "text/plain": [
       "      id  has_fever  has_cough  has_breathing_issues  infected\n",
       "0      1          0          1                     0         0\n",
       "1      2          1          1                     1         1\n",
       "2      3          1          0                     1         1\n",
       "3      4          1          1                     1         1\n",
       "4      5          0          1                     1         0\n",
       "..   ...        ...        ...                   ...       ...\n",
       "495  496          0          0                     1         0\n",
       "496  497          1          1                     1         1\n",
       "497  498          0          0                     1         1\n",
       "498  499          1          1                     1         0\n",
       "499  500          1          0                     1         0\n",
       "\n",
       "[500 rows x 5 columns]"
      ]
     },
     "execution_count": 3,
     "metadata": {},
     "output_type": "execute_result"
    }
   ],
   "source": [
    "import pandas as pd\n",
    "import numpy as np\n",
    "\n",
    "np.random.seed(42)\n",
    "\n",
    "num_samples = 500\n",
    "\n",
    "data = {\n",
    "    \"id\": np.arange(1, num_samples + 1),\n",
    "    \"has_fever\": np.random.choice([0, 1], size=num_samples, p=[0.4, 0.6]),\n",
    "    \"has_cough\": np.random.choice([0, 1], size=num_samples, p=[0.5, 0.5]),\n",
    "    \"has_breathing_issues\": np.random.choice([0, 1], size=num_samples, p=[0.3, 0.7]),\n",
    "}\n",
    "\n",
    "# Simulate infection status with some correlation to symptoms\n",
    "data[\"infected\"] = np.where(\n",
    "    (data[\"has_fever\"] == 1) & (data[\"has_cough\"] == 1) & (data[\"has_breathing_issues\"] == 1),\n",
    "    np.random.choice([0, 1], size=num_samples, p=[0.2, 0.8]),  # Higher probability of infection if all symptoms\n",
    "    np.random.choice([0, 1], size=num_samples, p=[0.7, 0.3])   # Lower probability otherwise\n",
    ")\n",
    "\n",
    "# Convert to DataFrame\n",
    "df = pd.DataFrame(data)\n",
    "\n",
    "df"
   ]
  },
  {
   "cell_type": "markdown",
   "metadata": {},
   "source": [
    "## Data processing"
   ]
  },
  {
   "cell_type": "code",
   "execution_count": 4,
   "metadata": {},
   "outputs": [],
   "source": [
    "feature_names = ['has_fever', 'has_cough', 'has_breathing_issues']\n",
    "target_name   = 'infected'\n",
    "X_classification = df[feature_names].values\n",
    "y_classification = df[target_name].values"
   ]
  },
  {
   "cell_type": "markdown",
   "metadata": {},
   "source": [
    "## Decision Tree"
   ]
  },
  {
   "cell_type": "code",
   "execution_count": 5,
   "metadata": {},
   "outputs": [
    {
     "name": "stdout",
     "output_type": "stream",
     "text": [
      "Classification Accuracy: 0.74\n",
      "├── has_cough ≤ 1.000\n",
      "  🎯 Class: 0\n",
      "└── has_cough > 1.000\n",
      "  ├── has_fever ≤ 1.000\n",
      "    🎯 Class: 0\n",
      "  └── has_fever > 1.000\n",
      "    ├── has_breathing_issues ≤ 1.000\n",
      "      🎯 Class: 0\n",
      "    └── has_breathing_issues > 1.000\n",
      "      🎯 Class: 1\n"
     ]
    }
   ],
   "source": [
    "# Decision Tree Classifier (ID3 using entropy)\n",
    "clf = DecisionTree(max_depth=5, feature_names=feature_names)\n",
    "clf.fit(X_classification, y_classification)\n",
    "\n",
    "\n",
    "print(f\"Classification Accuracy: {clf.score(X_classification, y_classification):.2f}\")\n",
    "clf.print_tree()"
   ]
  },
  {
   "cell_type": "markdown",
   "metadata": {},
   "source": [
    "## Logistic Regression"
   ]
  },
  {
   "cell_type": "code",
   "execution_count": 6,
   "metadata": {},
   "outputs": [
    {
     "name": "stdout",
     "output_type": "stream",
     "text": [
      "Epoch 0, loss 0.6931471785599453\n",
      "Epoch 300, loss 0.6654828348188853\n",
      "Epoch 600, loss 0.655846180116607\n",
      "Epoch 900, loss 0.6482625755848527\n",
      "Epoch 1200, loss 0.6418689493163338\n",
      "Epoch 1500, loss 0.6364359426284852\n",
      "Epoch 1800, loss 0.6317977282689398\n",
      "Epoch 2100, loss 0.6278211537221035\n",
      "Epoch 2400, loss 0.6243982547054788\n",
      "Epoch 2700, loss 0.6214410252191751\n",
      "Epoch 3000, loss 0.6188773435701448\n",
      "Epoch 3300, loss 0.6166477846451202\n",
      "Epoch 3600, loss 0.6147031217949815\n",
      "Epoch 3900, loss 0.613002363447676\n",
      "Epoch 4200, loss 0.6115112039140987\n",
      "Epoch 4500, loss 0.6102007953619346\n",
      "Epoch 4800, loss 0.6090467694526367\n",
      "\n",
      "-----------------------------\n",
      "Actual labels: [0 1 1 1 0 1 0 1 0 1 0 0 1 0 0 0 0 1 1 0 0 0 1 0 1 0 1 1 0 0 0 0 0 1 0 0 0\n",
      " 0 0 0 1 0 0 1 1 1 0 1 0 0 1 1 1 1 1 0 0 0 0 0 0 0 1 0 0 1 0 0 0 0 1 0 0 1\n",
      " 1 0 0 0 1 1 0 0 0 1 0 0 0 0 1 0 1 1 0 0 0 1 0 0 1 0 1 0 0 0 1 0 1 1 0 1 0\n",
      " 0 0 1 1 1 0 0 0 1 1 0 1 0 1 0 0 1 1 0 1 0 0 0 1 1 1 1 0 1 1 0 1 0 0 1 0 1\n",
      " 0 1 0 0 1 1 0 0 0 0 0 1 0 0 1 1 0 1 0 0 0 0 0 0 0 1 0 1 0 0 0 0 0 0 0 1 0\n",
      " 1 1 1 1 0 0 1 1 0 0 0 0 0 0 0 1 0 0 0 1 1 0 1 0 1 0 0 0 1 1 0 1 1 1 0 0 0\n",
      " 0 0 0 0 0 0 0 0 1 0 1 1 0 1 1 0 0 0 1 0 1 1 1 1 0 1 1 0 0 1 0 1 1 1 0 1 0\n",
      " 0 1 0 1 1 0 0 1 1 0 0 0 1 0 0 1 0 1 1 0 1 0 0 0 0 0 0 1 0 0 0 0 0 1 0 0 0\n",
      " 0 0 0 0 1 0 0 1 1 1 1 0 0 0 0 1 0 0 0 1 1 0 0 0 1 1 0 0 1 1 1 0 1 0 0 0 0\n",
      " 0 0 0 0 0 0 0 1 1 0 1 1 0 0 0 0 0 0 1 0 1 1 0 1 0 0 0 0 0 0 0 0 0 0 0 0 1\n",
      " 0 1 0 0 0 0 1 1 0 1 1 1 1 0 0 0 0 0 1 0 0 0 0 0 1 0 0 0 0 0 0 0 0 0 0 1 0\n",
      " 0 1 0 0 0 0 0 1 1 0 0 1 0 1 0 1 0 0 1 0 1 0 1 0 1 1 0 1 0 0 1 0 0 0 0 1 1\n",
      " 0 0 0 0 0 0 0 1 0 1 0 0 0 0 0 0 1 1 0 0 0 0 0 0 0 0 0 1 1 1 0 1 0 1 0 1 0\n",
      " 1 1 0 0 1 0 1 0 1 0 0 1 0 0 0 1 1 0 0]\n",
      "Predicted labels: [0 1 0 1 0 0 0 1 0 1 0 0 1 0 0 0 0 1 1 0 1 0 0 0 1 0 0 0 0 0 0 0 0 0 0 1 0\n",
      " 0 0 0 0 1 0 1 0 0 0 0 1 0 1 1 1 1 1 0 0 0 0 0 0 0 0 0 0 1 0 0 0 0 0 0 0 0\n",
      " 1 1 0 0 0 0 0 0 0 0 0 0 0 0 0 0 0 1 0 0 0 0 0 0 0 0 0 0 0 0 0 0 0 0 0 0 0\n",
      " 0 0 0 1 1 0 0 0 0 0 0 0 0 0 0 0 1 0 0 1 0 0 0 0 0 1 0 0 0 0 0 0 0 0 0 1 1\n",
      " 0 0 0 0 0 1 0 0 0 0 0 0 0 0 1 0 0 0 0 0 0 0 0 0 0 0 0 0 0 0 1 0 0 0 0 1 0\n",
      " 1 1 0 1 0 0 0 1 0 0 0 0 1 0 0 1 0 0 0 0 0 0 1 0 0 1 1 0 0 0 0 0 1 0 0 1 0\n",
      " 0 0 0 0 0 0 0 0 0 0 0 0 0 1 0 0 0 0 0 0 1 0 0 1 0 0 1 1 0 0 0 0 0 1 0 1 0\n",
      " 0 0 0 0 1 0 0 1 1 0 0 0 1 0 0 1 0 0 1 0 1 1 0 0 0 0 0 0 0 0 0 0 0 1 0 0 0\n",
      " 0 0 1 0 0 0 0 1 0 1 1 0 0 0 0 0 0 1 1 1 1 0 0 0 0 0 0 0 1 1 0 0 1 0 0 0 0\n",
      " 0 0 0 0 0 0 0 0 1 0 1 0 0 0 0 0 0 0 1 0 0 0 0 0 0 0 0 0 0 1 0 0 0 0 0 0 0\n",
      " 0 0 0 0 0 0 1 0 0 0 0 1 0 0 1 0 0 0 0 0 0 0 0 0 0 0 0 0 0 0 0 0 0 1 0 1 0\n",
      " 0 0 0 0 0 0 0 1 0 0 0 1 0 1 0 0 0 0 0 0 1 0 0 0 1 1 0 0 0 0 1 0 0 0 0 0 0\n",
      " 0 0 0 1 0 0 1 1 0 1 0 0 0 0 0 0 0 1 0 0 0 0 0 0 0 0 0 1 0 0 0 0 0 0 0 1 0\n",
      " 0 0 0 1 0 0 0 0 1 0 1 0 0 0 0 1 0 1 0]\n",
      "clf Accuracy: 0.74\n",
      "-----------------------------\n",
      "Logistic Regression clf parameters:\n",
      "Weights: [0.49228707 0.63398422 0.49234018]\n",
      "Bias: -1.462890089231246\n",
      "-----------------------------\n"
     ]
    }
   ],
   "source": [
    "# train the clf\n",
    "clf = LogisticRegression()\n",
    "clf.fit(X_classification, y_classification, epochs=5000, learning_rate=0.01)\n",
    "\n",
    "# make predictions\n",
    "y_proba = clf.predict_prob(X_classification)\n",
    "y_pred = clf.predict(X_classification)\n",
    "accuracy = clf.score(X_classification, y_classification)\n",
    "\n",
    "print(\"\\n-----------------------------\")\n",
    "#print(f\"Input data:\\n{X_classification}\")\n",
    "print(f\"Actual labels: {y_classification}\")\n",
    "#print(f\"Predicted probabilities: {y_proba}\")\n",
    "print(f\"Predicted labels: {y_pred}\")\n",
    "print(f\"clf Accuracy: {accuracy:.2f}\")\n",
    "print(\"-----------------------------\")\n",
    "print(\"Logistic Regression clf parameters:\")\n",
    "print(f\"Weights: {clf.weights}\")\n",
    "print(f\"Bias: {clf.bias}\")\n",
    "print(\"-----------------------------\")"
   ]
  },
  {
   "cell_type": "code",
   "execution_count": null,
   "metadata": {},
   "outputs": [],
   "source": []
  }
 ],
 "metadata": {
  "kernelspec": {
   "display_name": "second-brain-env",
   "language": "python",
   "name": "python3"
  },
  "language_info": {
   "codemirror_mode": {
    "name": "ipython",
    "version": 3
   },
   "file_extension": ".py",
   "mimetype": "text/x-python",
   "name": "python",
   "nbconvert_exporter": "python",
   "pygments_lexer": "ipython3",
   "version": "3.11.3"
  }
 },
 "nbformat": 4,
 "nbformat_minor": 2
}
